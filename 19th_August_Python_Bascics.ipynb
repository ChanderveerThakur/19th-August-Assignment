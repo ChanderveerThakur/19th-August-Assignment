{
 "cells": [
  {
   "cell_type": "markdown",
   "id": "942fd6d0",
   "metadata": {},
   "source": [
    "# Python Basics Variable Questions\n"
   ]
  },
  {
   "cell_type": "markdown",
   "id": "e161b10e",
   "metadata": {},
   "source": [
    "Question 1 : Declare two variables, `x` and `y`, and assign them integer values.Swap the values of these variables without using any temporary\n",
    "variable.\n"
   ]
  },
  {
   "cell_type": "code",
   "execution_count": 18,
   "id": "29f9a8e8",
   "metadata": {},
   "outputs": [],
   "source": [
    "x , y= 5, 10\n",
    "\n",
    "#values assigned"
   ]
  },
  {
   "cell_type": "code",
   "execution_count": 19,
   "id": "b9fa887f",
   "metadata": {},
   "outputs": [],
   "source": [
    "y , x = x , y"
   ]
  },
  {
   "cell_type": "code",
   "execution_count": 20,
   "id": "2c6b82d4",
   "metadata": {},
   "outputs": [
    {
     "data": {
      "text/plain": [
       "(10, 5)"
      ]
     },
     "execution_count": 20,
     "metadata": {},
     "output_type": "execute_result"
    }
   ],
   "source": [
    "x , y"
   ]
  },
  {
   "cell_type": "code",
   "execution_count": null,
   "id": "1cb242a4",
   "metadata": {},
   "outputs": [],
   "source": []
  },
  {
   "cell_type": "markdown",
   "id": "cc33c481",
   "metadata": {},
   "source": [
    "2: Create a program that calculates the area of a rectangle. Take the\n",
    "length and width as inputs from the user and store them in variables.\n",
    "Calculate and display the area.\n"
   ]
  },
  {
   "cell_type": "code",
   "execution_count": 21,
   "id": "924d44f3",
   "metadata": {},
   "outputs": [
    {
     "name": "stdout",
     "output_type": "stream",
     "text": [
      "Enter length of Rectangle: 2\n",
      "Enter Width of Rectangle: 2\n",
      "Area of Rectangle:  4\n"
     ]
    }
   ],
   "source": [
    "length = int(input(\"Enter length of Rectangle: \"))\n",
    "width = int(input(\"Enter Width of Rectangle: \"))\n",
    "area = length * width\n",
    "print(\"Area of Rectangle: \", area )\n"
   ]
  },
  {
   "cell_type": "code",
   "execution_count": null,
   "id": "926643b8",
   "metadata": {},
   "outputs": [],
   "source": []
  },
  {
   "cell_type": "markdown",
   "id": "33b26118",
   "metadata": {},
   "source": [
    "3. Write a Python program that converts temperature from Celsius to\n",
    "Fahrenheit. Take the temperature in Celsius as input, store it in a\n",
    "variable, convert it to Fahrenheit, and display the result."
   ]
  },
  {
   "cell_type": "code",
   "execution_count": 22,
   "id": "096b1175",
   "metadata": {},
   "outputs": [
    {
     "name": "stdout",
     "output_type": "stream",
     "text": [
      "Enter temperature in Celsius: 10\n",
      "50.0\n"
     ]
    }
   ],
   "source": [
    "celsius = int(input(\"Enter temperature in Celsius: \"))\n",
    "conversion_to_fahren = celsius * 1.8 + 32\n",
    "print(conversion_to_fahren)"
   ]
  },
  {
   "cell_type": "markdown",
   "id": "da53e053",
   "metadata": {},
   "source": [
    "# String Based Question"
   ]
  },
  {
   "cell_type": "markdown",
   "id": "d82bea8a",
   "metadata": {},
   "source": [
    "1. Write a Python program that takes a string as input and prints the\n",
    "length of the string.\n"
   ]
  },
  {
   "cell_type": "code",
   "execution_count": 23,
   "id": "47545d9a",
   "metadata": {},
   "outputs": [
    {
     "name": "stdout",
     "output_type": "stream",
     "text": [
      "Enter the string: hj\n",
      "Length of String 2\n"
     ]
    }
   ],
   "source": [
    "string = input(\"Enter the string: \")\n",
    "print(\"Length of String\", len(string))"
   ]
  },
  {
   "cell_type": "code",
   "execution_count": null,
   "id": "7c6beb85",
   "metadata": {},
   "outputs": [],
   "source": []
  },
  {
   "cell_type": "markdown",
   "id": "bad4f245",
   "metadata": {},
   "source": [
    "2. Create a program that takes a sentence from the user and counts the\n",
    "number of vowels (a, e, i, o, u) in the string.\n"
   ]
  },
  {
   "cell_type": "code",
   "execution_count": 24,
   "id": "7140d0b8",
   "metadata": {},
   "outputs": [
    {
     "name": "stdout",
     "output_type": "stream",
     "text": [
      "Enter the string: ghi\n",
      "1\n"
     ]
    }
   ],
   "source": [
    "string = input(\"Enter the string: \")\n",
    "vowels = 'aeiouAEIOU'\n",
    "count  = 0\n",
    "for i in string:\n",
    "    if i in vowels:\n",
    "        count = count + 1\n",
    "print (count)\n",
    "    \n"
   ]
  },
  {
   "cell_type": "code",
   "execution_count": null,
   "id": "310f6043",
   "metadata": {},
   "outputs": [],
   "source": []
  },
  {
   "cell_type": "markdown",
   "id": "4ff46a43",
   "metadata": {},
   "source": [
    "3. Given a string, reverse the order of characters using string slicing and\n",
    "print the reversed string.\n"
   ]
  },
  {
   "cell_type": "code",
   "execution_count": 25,
   "id": "dd436b0a",
   "metadata": {},
   "outputs": [
    {
     "name": "stdout",
     "output_type": "stream",
     "text": [
      "Enter the string: hg\n",
      "gh\n"
     ]
    }
   ],
   "source": [
    "string = input(\"Enter the string: \")\n",
    "print(string[: : -1])"
   ]
  },
  {
   "cell_type": "code",
   "execution_count": null,
   "id": "3dee960a",
   "metadata": {},
   "outputs": [],
   "source": []
  },
  {
   "cell_type": "markdown",
   "id": "37796737",
   "metadata": {},
   "source": [
    "4. Write a program that takes a string as input and checks if it is a\n",
    "palindrome (reads the same forwards and backwards).\n"
   ]
  },
  {
   "cell_type": "code",
   "execution_count": 26,
   "id": "5457e7ae",
   "metadata": {},
   "outputs": [
    {
     "name": "stdout",
     "output_type": "stream",
     "text": [
      "Enter the string: kl\n",
      "False\n"
     ]
    }
   ],
   "source": [
    "string = input(\"Enter the string: \")\n",
    "lower_string = string.lower() # to avoid mistake where user puts first alphabet in capital\n",
    "palindrome = lower_string[: : -1]\n",
    "if palindrome == lower_string:\n",
    "    print (True)\n",
    "else:\n",
    "    print (False)"
   ]
  },
  {
   "cell_type": "code",
   "execution_count": null,
   "id": "3aabceda",
   "metadata": {},
   "outputs": [],
   "source": []
  },
  {
   "cell_type": "markdown",
   "id": "a7992123",
   "metadata": {},
   "source": [
    "5. Create a program that takes a string as input and removes all the\n",
    "spaces from it. Print the modified string without spaces.\n"
   ]
  },
  {
   "cell_type": "code",
   "execution_count": 27,
   "id": "43fb56d7",
   "metadata": {},
   "outputs": [
    {
     "name": "stdout",
     "output_type": "stream",
     "text": [
      "Enter the string:  jk  j\n",
      "jkj\n"
     ]
    }
   ],
   "source": [
    "string = input(\"Enter the string: \")\n",
    "print(string.replace(\" \",\"\")) # this will remove all the white spaces from the string"
   ]
  },
  {
   "cell_type": "code",
   "execution_count": null,
   "id": "10715ffe",
   "metadata": {},
   "outputs": [],
   "source": []
  },
  {
   "cell_type": "code",
   "execution_count": null,
   "id": "c6df64b7",
   "metadata": {},
   "outputs": [],
   "source": []
  },
  {
   "cell_type": "code",
   "execution_count": null,
   "id": "f62c4c61",
   "metadata": {},
   "outputs": [],
   "source": []
  },
  {
   "cell_type": "code",
   "execution_count": null,
   "id": "58f5e287",
   "metadata": {},
   "outputs": [],
   "source": []
  },
  {
   "cell_type": "code",
   "execution_count": null,
   "id": "26f257bc",
   "metadata": {},
   "outputs": [],
   "source": []
  },
  {
   "cell_type": "code",
   "execution_count": null,
   "id": "dd6be03a",
   "metadata": {},
   "outputs": [],
   "source": []
  },
  {
   "cell_type": "code",
   "execution_count": null,
   "id": "a75af744",
   "metadata": {},
   "outputs": [],
   "source": []
  }
 ],
 "metadata": {
  "kernelspec": {
   "display_name": "Python 3 (ipykernel)",
   "language": "python",
   "name": "python3"
  },
  "language_info": {
   "codemirror_mode": {
    "name": "ipython",
    "version": 3
   },
   "file_extension": ".py",
   "mimetype": "text/x-python",
   "name": "python",
   "nbconvert_exporter": "python",
   "pygments_lexer": "ipython3",
   "version": "3.11.2"
  }
 },
 "nbformat": 4,
 "nbformat_minor": 5
}
